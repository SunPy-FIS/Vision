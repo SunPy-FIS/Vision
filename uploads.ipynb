{
 "cells": [
  {
   "cell_type": "code",
   "execution_count": 1,
   "id": "832e97a8",
   "metadata": {},
   "outputs": [],
   "source": [
    "import zipfile as zf"
   ]
  },
  {
   "cell_type": "code",
   "execution_count": 12,
   "id": "847f35ab",
   "metadata": {},
   "outputs": [],
   "source": [
    "files = zf.ZipFile(\"bounding_boxes.zip\", 'r')\n",
    "files.extractall(os.path.join(\".\",\"Bounding_Boxes\"))\n",
    "files.close()"
   ]
  },
  {
   "cell_type": "code",
   "execution_count": 3,
   "id": "b775a0cf",
   "metadata": {},
   "outputs": [],
   "source": [
    "files = zf.ZipFile(\"afw.zip\", 'r')\n",
    "files.extractall(os.path.join(\".\",\"images\",\"afw\"))\n",
    "files.close()"
   ]
  },
  {
   "cell_type": "code",
   "execution_count": 3,
   "id": "0f8daefc",
   "metadata": {},
   "outputs": [],
   "source": [
    "import os"
   ]
  },
  {
   "cell_type": "code",
   "execution_count": 5,
   "id": "1303f71b",
   "metadata": {},
   "outputs": [
    {
     "data": {
      "text/plain": [
       "270"
      ]
     },
     "execution_count": 5,
     "metadata": {},
     "output_type": "execute_result"
    }
   ],
   "source": [
    "len(os.listdir(os.path.join(\".\",\"images\",\"ibug\")))"
   ]
  },
  {
   "cell_type": "code",
   "execution_count": 11,
   "id": "57364536",
   "metadata": {},
   "outputs": [],
   "source": [
    "files = zf.ZipFile(\"helen.zip\", 'r')\n",
    "files.extractall(os.path.join(\".\",\"images\",\"helen\"))\n",
    "files.close()"
   ]
  },
  {
   "cell_type": "code",
   "execution_count": 3,
   "id": "034ba5f0",
   "metadata": {},
   "outputs": [],
   "source": [
    "files = zf.ZipFile(\"ibug.zip\", 'r')\n",
    "files.extractall(os.path.join(\".\",\"images\",\"ibug\"))\n",
    "files.close()"
   ]
  },
  {
   "cell_type": "code",
   "execution_count": 10,
   "id": "77d55319",
   "metadata": {},
   "outputs": [],
   "source": [
    "files = zf.ZipFile(\"lfpw.zip\", 'r')\n",
    "files.extractall(os.path.join(\".\",\"images\",\"lfpw\"))\n",
    "files.close()"
   ]
  },
  {
   "cell_type": "code",
   "execution_count": 4,
   "id": "faf5a872",
   "metadata": {},
   "outputs": [],
   "source": [
    "files = zf.ZipFile(\"300W.zip\",\"r\")\n",
    "files.extractall(os.path.join(\".\",\"images\",\"Test\"))\n",
    "files.close()"
   ]
  },
  {
   "cell_type": "code",
   "execution_count": null,
   "id": "bd5e7657",
   "metadata": {},
   "outputs": [],
   "source": [
    "# downloads"
   ]
  },
  {
   "cell_type": "code",
   "execution_count": 4,
   "id": "328faf44",
   "metadata": {},
   "outputs": [],
   "source": [
    "import shutil\n",
    "import os"
   ]
  },
  {
   "cell_type": "code",
   "execution_count": 5,
   "id": "86fae02b",
   "metadata": {},
   "outputs": [
    {
     "data": {
      "text/plain": [
       "'/home/jupyter/challenges_comparison.zip'"
      ]
     },
     "execution_count": 5,
     "metadata": {},
     "output_type": "execute_result"
    }
   ],
   "source": [
    "shutil.make_archive(os.path.join(\".\",\"challenges_comparison\"), 'zip', os.path.join(\".\",\"comparison\"))"
   ]
  },
  {
   "cell_type": "code",
   "execution_count": 6,
   "id": "e8b14f22",
   "metadata": {},
   "outputs": [
    {
     "data": {
      "text/plain": [
       "'/home/jupyter/report_pics.zip'"
      ]
     },
     "execution_count": 6,
     "metadata": {},
     "output_type": "execute_result"
    }
   ],
   "source": [
    "shutil.make_archive(os.path.join(\".\",\"report_pics\"), 'zip', os.path.join(\".\",\"report_pics\"))"
   ]
  }
 ],
 "metadata": {
  "environment": {
   "name": "tf2-gpu.2-3.m75",
   "type": "gcloud",
   "uri": "gcr.io/deeplearning-platform-release/tf2-gpu.2-3:m75"
  },
  "kernelspec": {
   "display_name": "Python 3",
   "language": "python",
   "name": "python3"
  },
  "language_info": {
   "codemirror_mode": {
    "name": "ipython",
    "version": 3
   },
   "file_extension": ".py",
   "mimetype": "text/x-python",
   "name": "python",
   "nbconvert_exporter": "python",
   "pygments_lexer": "ipython3",
   "version": "3.7.10"
  }
 },
 "nbformat": 4,
 "nbformat_minor": 5
}
